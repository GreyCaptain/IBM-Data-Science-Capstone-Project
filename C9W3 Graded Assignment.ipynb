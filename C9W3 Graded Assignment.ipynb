{
    "cells": [
        {
            "cell_type": "markdown",
            "metadata": {
                "collapsed": true
            },
            "source": "# C9 Data Science Capstone Project\n## Week 3 Graded Assignment\n### 1.1 Import the necessary libraries"
        },
        {
            "cell_type": "code",
            "execution_count": 1,
            "metadata": {},
            "outputs": [],
            "source": "import pandas as pd # library for data analsysis\npd.set_option('display.max_columns', None)\npd.set_option('display.max_rows', None)\n\nimport requests # library to handle requests\n\n'''\nimport json # library to handle JSON files\n\n!conda install -c conda-forge geopy --yes # uncomment this line if you haven't completed the Foursquare API lab\nfrom geopy.geocoders import Nominatim # convert an address into latitude and longitude values\n\n\nfrom pandas.io.json import json_normalize # tranform JSON file into a pandas dataframe\n'''\n\nfrom bs4 import BeautifulSoup"
        },
        {
            "cell_type": "markdown",
            "metadata": {},
            "source": "### 1.2. Method for Downloading the City Information"
        },
        {
            "cell_type": "code",
            "execution_count": 2,
            "metadata": {},
            "outputs": [],
            "source": "def download_city_info(city_url):\n    response = requests.get(city_url)\n    assert response.status_code == 200  #HTTP 200 OK success status response code indicates that the request has succeeded. \n    return response.text"
        },
        {
            "cell_type": "markdown",
            "metadata": {},
            "source": "### 1.3. Method for Converting a City's Data from HTML into a DataFrame"
        },
        {
            "cell_type": "code",
            "execution_count": 3,
            "metadata": {},
            "outputs": [],
            "source": "def city2df(city_url):\n\n    html_city = download_city_info(city_url)\n\n    soup = BeautifulSoup(html_city, 'html.parser')\n\n    city_table = []\n    parser=soup.find('table')\n             \n    for td in parser.find_all('td'):\n        cell = {}\n        if td.span.text=='Not assigned': # Only process the cells that have an assigned borough. Ignore cells with a borough that is Not assigned.\n            pass\n        else:\n            cell['PostalCode'] = td.select(\"p > b\")[0].string\n            cell['Borough'] = (td.span.text).split('(')[0] #td.select(\"p a:nth-of-type(1)\")[0].get('title')\n            cell['Neighborhood'] = (((((td.span.text).split('(')[1]).strip(')')).replace(' /',',')).replace(')',' ')).strip(' ')\n            city_table.append(cell)\n    \n    df=pd.DataFrame(city_table)\n        \n    return df"
        },
        {
            "cell_type": "markdown",
            "metadata": {},
            "source": "### 1.4. Run the city2df method for acquiring the Toronto's data and placing it into a DataFrame"
        },
        {
            "cell_type": "code",
            "execution_count": 4,
            "metadata": {},
            "outputs": [
                {
                    "data": {
                        "text/plain": "(103, 3)"
                    },
                    "execution_count": 4,
                    "metadata": {},
                    "output_type": "execute_result"
                }
            ],
            "source": "city_url = 'https://en.wikipedia.org/wiki/List_of_postal_codes_of_Canada:_M' #M for Toronto\n\ndf = city2df(city_url)\n\n# Cleanse the data:\ndf['Borough']=df['Borough'].replace({'Downtown TorontoStn A PO Boxes25 The Esplanade':'Downtown Toronto Stn A',\n                                                 'East TorontoBusiness reply mail Processing Centre969 Eastern':'East Toronto Business',\n                                                 'EtobicokeNorthwest':'Etobicoke Northwest','East YorkEast Toronto':'East York/East Toronto',\n                                                 'MississaugaCanada Post Gateway Processing Centre':'Mississauga'})\n\ndf.shape"
        },
        {
            "cell_type": "code",
            "execution_count": null,
            "metadata": {},
            "outputs": [],
            "source": ""
        }
    ],
    "metadata": {
        "kernelspec": {
            "display_name": "Python 3.7",
            "language": "python",
            "name": "python3"
        },
        "language_info": {
            "codemirror_mode": {
                "name": "ipython",
                "version": 3
            },
            "file_extension": ".py",
            "mimetype": "text/x-python",
            "name": "python",
            "nbconvert_exporter": "python",
            "pygments_lexer": "ipython3",
            "version": "3.7.10"
        }
    },
    "nbformat": 4,
    "nbformat_minor": 1
}