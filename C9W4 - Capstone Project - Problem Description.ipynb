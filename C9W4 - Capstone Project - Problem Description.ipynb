{
 "cells": [
  {
   "cell_type": "markdown",
   "id": "ff2687a2-9adf-48dd-a733-b6a5982a1500",
   "metadata": {},
   "source": [
    "# C9 IBM APPLIED DATA SCIENCE CAPSTONE PROJECT \n",
    "# BATTLE OF NEIGHBORHOODS IN GENOVA\n",
    "## Part 1 - Problem Description and Background Information"
   ]
  },
  {
   "cell_type": "markdown",
   "id": "965222d1-c2c8-4a22-aadd-cdfcf927185a",
   "metadata": {},
   "source": [
    "__Problem and Objective__\n",
    "\n",
    "Having equipped with the skills and the tools to use location data to explore a geographical location, I leveraged the Foursquare location data to explore or compare neighborhoods in the city of Genova/Italy and use the Foursquare location data to solve a business problem of opening a new restaurant. \n",
    "\n",
    "Here in this project, even though I targeted possible business owners looking forward to opening a new restaurant, the main idea can be extended to other venue categories such as hotels, gyms, bars, bakeries, bookstores, markets, in short, anywhere that has foot traffic.  \n",
    "\n",
    "The main challange is to pick the right spot in a suitable neighborhood with the highest possible foot traffic, preferably close to the business districts as the tourism and small businesses were hit hard by COVID. Picking the place with the highest foot traffic is particularly important due to the COVID restrictions that enforces the clients to have take-aways only. \n",
    "\n",
    "__The City of Genova__\n",
    "\n",
    "Genova is the capital of the Italian region of Liguria and the sixth-largest city in Italy. In 2015, 594,733 people lived within the city's administrative limits. As of the 2011 Italian census, the Province of Genoa, which in 2015 became the Metropolitan City of Genoa, had 855,834 resident persons. Over 1.5 million people live in the wider metropolitan area stretching along the Italian Riviera.\n",
    "\n",
    "On the Gulf of Genoa in the Ligurian Sea, Genoa has historically been one of the most important ports on the Mediterranean: it is currently the busiest in Italy and in the Mediterranean Sea and twelfth-busiest in the European Union.\n",
    "\n",
    "Genoa was the capital of one of the most powerful maritime republics for over seven centuries, from the 11th century to 1797. Particularly from the 12th century to the 15th century, the city played a leading role in the commercial trade in Europe, becoming one of the largest naval powers of the continent and considered among the wealthiest cities in the world. It was also nicknamed la Superba (\"the proud one\") by Petrarch due to its glories on the seas and impressive landmarks.\n",
    "\n",
    "The city has hosted massive shipyards and steelworks since the 19th century, and its solid financial sector dates back to the Middle Ages. The Bank of Saint George, founded in 1407, is the oldest known state deposit bank in the world and has played an important role in the city's prosperity since the middle of the 15th century.\n",
    "\n",
    "The historical center, also known as old town, of Genoa is one of the largest and most-densely populated in Europe. Part of it was also inscribed on the World Heritage List (UNESCO) in 2006 as Genoa: Le Strade Nuove and the system of the Palazzi dei Rolli.\n",
    "\n",
    "Genoa is also home to the University of Genoa, which has a history going back to the 15th century, when it was known as Genuense Athenaeum. The city's rich cultural history in art, music and cuisine allowed it to become the 2004 European Capital of Culture. It is the birthplace of Guglielmo Embriaco, Christopher Columbus, Andrea Doria, Niccolò Paganini, Giuseppe Mazzini, Renzo Piano and Grimaldo Canella, founder of the House of Grimaldi, among others.\n",
    "\n",
    "Genoa, which forms the southern corner of the Milan-Turin-Genoa industrial triangle of Northwest Italy, is one of the country's major economic centers.[16][17] A number of leading Italian companies are based in the city, including Fincantieri, Leonardo, Ansaldo Energia, Ansaldo STS, Edoardo Raffinerie Garrone, Piaggio Aerospace, Mediterranean Shipping Company and Costa Cruises.\n"
   ]
  },
  {
   "cell_type": "markdown",
   "id": "ee35a713-6205-4e27-bb10-e40f7684a4fd",
   "metadata": {},
   "source": [
    "## Part 2 - Data Description"
   ]
  },
  {
   "cell_type": "markdown",
   "id": "332624ff-73d7-4be2-a56c-321cd55d81c1",
   "metadata": {},
   "source": [
    "In order for us to perform the analysis for a given city, we will be needing\n",
    " * The list of municipalities and neighborhoods, \n",
    " * The coordinates of each neighborhood,\n",
    " * The venues of each neighborhood that are going to be querried from Foursquare API. \n",
    "\n",
    "The city of Genova is subdivided into 9 municipalities, as approved by the Municipal Council in 2007. The necessary data to obtain the municipatilies and neighborhoods will be scraped from https://en.wikipedia.org/wiki/Genoa#Municipal_government. Given that the table has some  irregularities, data cleansing will be required. After having formed the table in the right format, we need to remove 2, or possibly 3 municipatilies, as those are situated in rural areas that do not attract crowd. Media Val Bisagno, Ponente, and possibly Valpolcevera will be removed from the table. \n",
    "\n",
    "After building a dataframe of the municipalities, population of each municipality along with the neighborhood names in each municipality, in order to utilize the Foursquare location data, we need to get the latitude and the longitude coordinates of each neighborhood. Leveraging the Google Maps Geocoding API to get the latitude and longitude will be not possible as Google started charging for the API. Therefore, I will be using Geocoder Python package instead: https://geocoder.readthedocs.io/index.html. \n",
    "\n",
    "In this package Nominatim API could provide a suitable free solution to our problem, but it was observed that it is not always possible to obtain the coordinates for each neighborhood. As a result, I chose to use ArcGIS geocoder, one of the most popular geocoding APIs with a high accuracy in obtaining the right coordinates.\n",
    "\n",
    "Finally, I will explore neighborhoods in Genova by leveraging the functionalities of Foursquare API and cluster them by using K-Means algorithm. \n",
    "\n",
    "\n"
   ]
  }
 ],
 "metadata": {
  "kernelspec": {
   "display_name": "Python 3",
   "language": "python",
   "name": "python3"
  },
  "language_info": {
   "codemirror_mode": {
    "name": "ipython",
    "version": 3
   },
   "file_extension": ".py",
   "mimetype": "text/x-python",
   "name": "python",
   "nbconvert_exporter": "python",
   "pygments_lexer": "ipython3",
   "version": "3.7.2"
  }
 },
 "nbformat": 4,
 "nbformat_minor": 5
}
